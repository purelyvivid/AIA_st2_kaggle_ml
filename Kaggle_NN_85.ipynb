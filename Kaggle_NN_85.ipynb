{
 "cells": [
  {
   "cell_type": "code",
   "execution_count": 144,
   "metadata": {},
   "outputs": [],
   "source": [
    "import pandas as pd\n",
    "import numpy as np\n",
    "import matplotlib.pyplot as plt\n",
    "from sklearn.preprocessing import StandardScaler, Normalizer\n",
    "import pickle\n",
    "from sklearn.model_selection import train_test_split\n",
    "import keras"
   ]
  },
  {
   "cell_type": "code",
   "execution_count": 145,
   "metadata": {},
   "outputs": [],
   "source": [
    "%matplotlib inline"
   ]
  },
  {
   "cell_type": "code",
   "execution_count": 146,
   "metadata": {},
   "outputs": [
    {
     "data": {
      "text/plain": [
       "((14364, 55), (756, 54))"
      ]
     },
     "execution_count": 146,
     "metadata": {},
     "output_type": "execute_result"
    }
   ],
   "source": [
    "train = pd.read_csv('train.csv', index_col=0)\n",
    "test = pd.read_csv('test.csv', index_col=0)\n",
    "train.shape, test.shape"
   ]
  },
  {
   "cell_type": "code",
   "execution_count": 147,
   "metadata": {},
   "outputs": [
    {
     "name": "stdout",
     "output_type": "stream",
     "text": [
      "Cover_Type\n"
     ]
    }
   ],
   "source": [
    "for i in train.keys():\n",
    "    if not i in test.keys():\n",
    "        print(i)"
   ]
  },
  {
   "cell_type": "code",
   "execution_count": 148,
   "metadata": {},
   "outputs": [],
   "source": [
    "y = train['Cover_Type']\n",
    "del train['Cover_Type']"
   ]
  },
  {
   "cell_type": "code",
   "execution_count": 149,
   "metadata": {},
   "outputs": [],
   "source": [
    "def data_prepro(data, s=None):\n",
    "    \n",
    "    if s is None:\n",
    "        s = StandardScaler()\n",
    "        s.fit(data)\n",
    "        pickle.dump( s, open('s.pkl', 'wb') )\n",
    "\n",
    "    data = s.transform(data)\n",
    "    \n",
    "    \"\"\"\n",
    "    cols=[\n",
    "        'Horizontal_Distance_To_Hydrology',\n",
    "        'Vertical_Distance_To_Hydrology',\n",
    "        'Horizontal_Distance_To_Roadways',\n",
    "        'Hillshade_9am',\n",
    "        'Hillshade_Noon',\n",
    "        'Hillshade_3pm',\n",
    "        'Horizontal_Distance_To_Fire_Points',\n",
    "    ]\n",
    "    # to negtive\n",
    "    for c in cols:\n",
    "        #_ = plt.hist(data[c]); plt.show()\n",
    "        if ('Horizontal' in c) or ('Vertical' in c):\n",
    "            data[c] = data[c].apply(lambda x:-x)\n",
    "        data[c] = np.log(data[c])\n",
    "        #_ = plt.hist(data[c]); plt.show()\n",
    "    \"\"\"\n",
    "    \n",
    "    data = np.nan_to_num(data)\n",
    "    return data"
   ]
  },
  {
   "cell_type": "code",
   "execution_count": 150,
   "metadata": {},
   "outputs": [
    {
     "data": {
      "text/plain": [
       "(15120, 54)"
      ]
     },
     "execution_count": 150,
     "metadata": {},
     "output_type": "execute_result"
    }
   ],
   "source": [
    "data = np.concatenate( (train, test), 0 )\n",
    "data.shape"
   ]
  },
  {
   "cell_type": "code",
   "execution_count": 151,
   "metadata": {},
   "outputs": [
    {
     "name": "stderr",
     "output_type": "stream",
     "text": [
      "/opt/conda/lib/python3.6/site-packages/sklearn/utils/validation.py:475: DataConversionWarning: Data with input dtype int64 was converted to float64 by StandardScaler.\n",
      "  warnings.warn(msg, DataConversionWarning)\n"
     ]
    }
   ],
   "source": [
    "data_1 = data_prepro(data)"
   ]
  },
  {
   "cell_type": "code",
   "execution_count": 152,
   "metadata": {},
   "outputs": [
    {
     "data": {
      "text/plain": [
       "(14364, 54)"
      ]
     },
     "execution_count": 152,
     "metadata": {},
     "output_type": "execute_result"
    }
   ],
   "source": [
    "data_train = data_1[:train.shape[0], :]\n",
    "data_test = data_1[train.shape[0]:, :]\n",
    "data_train.shape"
   ]
  },
  {
   "cell_type": "code",
   "execution_count": 153,
   "metadata": {},
   "outputs": [],
   "source": [
    "from sklearn.ensemble import GradientBoostingClassifier, RandomForestClassifier"
   ]
  },
  {
   "cell_type": "code",
   "execution_count": 16,
   "metadata": {},
   "outputs": [
    {
     "data": {
      "text/plain": [
       "0.8373015873015873"
      ]
     },
     "execution_count": 16,
     "metadata": {},
     "output_type": "execute_result"
    }
   ],
   "source": [
    "cls = GradientBoostingClassifier()\n",
    "cls.fit(data_train,y )\n",
    "cls.score(data_train,y)"
   ]
  },
  {
   "cell_type": "code",
   "execution_count": 17,
   "metadata": {},
   "outputs": [
    {
     "data": {
      "text/plain": [
       "0.9946393762183235"
      ]
     },
     "execution_count": 17,
     "metadata": {},
     "output_type": "execute_result"
    }
   ],
   "source": [
    "cls = RandomForestClassifier()\n",
    "cls.fit(data_train,y )\n",
    "cls.score(data_train,y)"
   ]
  },
  {
   "cell_type": "code",
   "execution_count": 46,
   "metadata": {},
   "outputs": [],
   "source": [
    "df = pd.DataFrame( {'id': test.index, 'class':cls.predict(data_test) }, index=range(len(data_test)))\n",
    "df.to_csv('sub_4.csv', index=False)"
   ]
  },
  {
   "cell_type": "code",
   "execution_count": 47,
   "metadata": {},
   "outputs": [],
   "source": [
    "ans_3 = pd.read_csv('sub_3.csv')\n",
    "ans_4 = pd.read_csv('sub_4.csv')"
   ]
  },
  {
   "cell_type": "code",
   "execution_count": 48,
   "metadata": {},
   "outputs": [
    {
     "data": {
      "text/plain": [
       "False"
      ]
     },
     "execution_count": 48,
     "metadata": {},
     "output_type": "execute_result"
    }
   ],
   "source": [
    "(ans_3['class']  == ans_4['class']).all()"
   ]
  },
  {
   "cell_type": "code",
   "execution_count": 184,
   "metadata": {},
   "outputs": [],
   "source": [
    "from keras.layers import Dense, BatchNormalization, Dropout, LeakyReLU"
   ]
  },
  {
   "cell_type": "code",
   "execution_count": 185,
   "metadata": {},
   "outputs": [],
   "source": [
    "model = keras.models.Sequential()"
   ]
  },
  {
   "cell_type": "code",
   "execution_count": 186,
   "metadata": {},
   "outputs": [
    {
     "name": "stderr",
     "output_type": "stream",
     "text": [
      "/opt/conda/lib/python3.6/site-packages/keras/activations.py:211: UserWarning: Do not pass a layer instance (such as LeakyReLU) as the activation argument of another layer. Instead, advanced activation layers should be used just like any other layer in a model.\n",
      "  identifier=identifier.__class__.__name__))\n"
     ]
    }
   ],
   "source": [
    "\n",
    "model.add(Dense(units=400,                    #建立輸入層至隱藏層連接\n",
    "           input_dim=54,                      #輸入神經元數目=784\n",
    "           kernel_initializer='he_normal',  #以常態分佈亂數初始化參數\n",
    "           activation=LeakyReLU(0.1))) \n",
    "model.add(Dropout(0.2))\n",
    "model.add(BatchNormalization())\n",
    "model.add(Dense(units=200,                    #建立輸入層至隱藏層連接\n",
    "           input_dim=400,                      #輸入神經元數目=784\n",
    "           kernel_initializer='he_normal',  #以常態分佈亂數初始化參數\n",
    "           activation=LeakyReLU(0.1))) \n",
    "model.add(Dropout(0.2))\n",
    "model.add(BatchNormalization())\n",
    "model.add(Dense(units=100,                    #建立輸入層至隱藏層連接\n",
    "           input_dim=200,                      #輸入神經元數目=784\n",
    "           kernel_initializer='he_normal',  #以常態分佈亂數初始化參數\n",
    "           activation=LeakyReLU(0.1))) \n",
    "model.add(Dense(units=50,                    #建立輸入層至隱藏層連接\n",
    "           input_dim=100,                      #輸入神經元數目=784\n",
    "           kernel_initializer='he_normal',  #以常態分佈亂數初始化參數\n",
    "           activation=LeakyReLU(0.1))) \n",
    "model.add(Dropout(0.2))\n",
    "model.add(BatchNormalization())\n",
    "model.add(Dense(units=20,                    #建立輸入層至隱藏層連接\n",
    "           input_dim=50,                      #輸入神經元數目=784\n",
    "           kernel_initializer='he_normal',  #以常態分佈亂數初始化參數\n",
    "           activation=LeakyReLU(0.1))) \n",
    "model.add(Dropout(0.2))\n",
    "model.add(BatchNormalization())\n",
    "model.add(Dense(units=7,                    #建立輸入層至隱藏層連接\n",
    "           input_dim=20,                      #輸入神經元數目=784\n",
    "           kernel_initializer='normal',  #以常態分佈亂數初始化參數\n",
    "           activation='softmax')) "
   ]
  },
  {
   "cell_type": "code",
   "execution_count": 187,
   "metadata": {},
   "outputs": [
    {
     "name": "stdout",
     "output_type": "stream",
     "text": [
      "_________________________________________________________________\n",
      "Layer (type)                 Output Shape              Param #   \n",
      "=================================================================\n",
      "dense_46 (Dense)             (None, 400)               22000     \n",
      "_________________________________________________________________\n",
      "dropout_13 (Dropout)         (None, 400)               0         \n",
      "_________________________________________________________________\n",
      "batch_normalization_24 (Batc (None, 400)               1600      \n",
      "_________________________________________________________________\n",
      "dense_47 (Dense)             (None, 200)               80200     \n",
      "_________________________________________________________________\n",
      "dropout_14 (Dropout)         (None, 200)               0         \n",
      "_________________________________________________________________\n",
      "batch_normalization_25 (Batc (None, 200)               800       \n",
      "_________________________________________________________________\n",
      "dense_48 (Dense)             (None, 100)               20100     \n",
      "_________________________________________________________________\n",
      "dense_49 (Dense)             (None, 50)                5050      \n",
      "_________________________________________________________________\n",
      "dropout_15 (Dropout)         (None, 50)                0         \n",
      "_________________________________________________________________\n",
      "batch_normalization_26 (Batc (None, 50)                200       \n",
      "_________________________________________________________________\n",
      "dense_50 (Dense)             (None, 20)                1020      \n",
      "_________________________________________________________________\n",
      "dropout_16 (Dropout)         (None, 20)                0         \n",
      "_________________________________________________________________\n",
      "batch_normalization_27 (Batc (None, 20)                80        \n",
      "_________________________________________________________________\n",
      "dense_51 (Dense)             (None, 7)                 147       \n",
      "=================================================================\n",
      "Total params: 131,197\n",
      "Trainable params: 129,857\n",
      "Non-trainable params: 1,340\n",
      "_________________________________________________________________\n"
     ]
    }
   ],
   "source": [
    "model.summary()"
   ]
  },
  {
   "cell_type": "code",
   "execution_count": 188,
   "metadata": {},
   "outputs": [],
   "source": [
    "y_ = y-1"
   ]
  },
  {
   "cell_type": "code",
   "execution_count": 189,
   "metadata": {},
   "outputs": [],
   "source": [
    "from keras.utils import to_categorical"
   ]
  },
  {
   "cell_type": "code",
   "execution_count": 190,
   "metadata": {},
   "outputs": [],
   "source": [
    "y_train = to_categorical(y_)"
   ]
  },
  {
   "cell_type": "code",
   "execution_count": 191,
   "metadata": {},
   "outputs": [],
   "source": [
    "train_train, train_test = train_test_split(train, )"
   ]
  },
  {
   "cell_type": "code",
   "execution_count": 192,
   "metadata": {},
   "outputs": [],
   "source": [
    "from keras import optimizers"
   ]
  },
  {
   "cell_type": "code",
   "execution_count": 193,
   "metadata": {},
   "outputs": [],
   "source": [
    "model.compile(loss='categorical_crossentropy',   #設定損失函數\n",
    "            optimizer=optimizers.Adam(lr=3e-3),                     #設定最佳化方法\n",
    "            metrics=['accuracy']) "
   ]
  },
  {
   "cell_type": "code",
   "execution_count": 194,
   "metadata": {},
   "outputs": [
    {
     "name": "stdout",
     "output_type": "stream",
     "text": [
      "Train on 11491 samples, validate on 2873 samples\n",
      "Epoch 1/50\n",
      " - 3s - loss: 1.3761 - acc: 0.5349 - val_loss: 0.8672 - val_acc: 0.6572\n",
      "Epoch 2/50\n",
      " - 0s - loss: 0.9143 - acc: 0.6455 - val_loss: 0.7373 - val_acc: 0.6982\n",
      "Epoch 3/50\n",
      " - 0s - loss: 0.8056 - acc: 0.6766 - val_loss: 0.6921 - val_acc: 0.7104\n",
      "Epoch 4/50\n",
      " - 0s - loss: 0.7402 - acc: 0.7018 - val_loss: 0.6465 - val_acc: 0.7389\n",
      "Epoch 5/50\n",
      " - 0s - loss: 0.7137 - acc: 0.7102 - val_loss: 0.6493 - val_acc: 0.7254\n",
      "Epoch 6/50\n",
      " - 0s - loss: 0.6871 - acc: 0.7190 - val_loss: 0.6135 - val_acc: 0.7327\n",
      "Epoch 7/50\n",
      " - 0s - loss: 0.6553 - acc: 0.7339 - val_loss: 0.5745 - val_acc: 0.7630\n",
      "Epoch 8/50\n",
      " - 0s - loss: 0.6355 - acc: 0.7416 - val_loss: 0.5779 - val_acc: 0.7633\n",
      "Epoch 9/50\n",
      " - 0s - loss: 0.6200 - acc: 0.7474 - val_loss: 0.5713 - val_acc: 0.7671\n",
      "Epoch 10/50\n",
      " - 0s - loss: 0.6055 - acc: 0.7592 - val_loss: 0.5479 - val_acc: 0.7703\n",
      "Epoch 11/50\n",
      " - 0s - loss: 0.5955 - acc: 0.7575 - val_loss: 0.5487 - val_acc: 0.7762\n",
      "Epoch 12/50\n",
      " - 0s - loss: 0.5892 - acc: 0.7636 - val_loss: 0.5353 - val_acc: 0.7734\n",
      "Epoch 13/50\n",
      " - 0s - loss: 0.5691 - acc: 0.7713 - val_loss: 0.5405 - val_acc: 0.7786\n",
      "Epoch 14/50\n",
      " - 0s - loss: 0.5645 - acc: 0.7736 - val_loss: 0.5142 - val_acc: 0.7922\n",
      "Epoch 15/50\n",
      " - 0s - loss: 0.5576 - acc: 0.7717 - val_loss: 0.5206 - val_acc: 0.7894\n",
      "Epoch 16/50\n",
      " - 0s - loss: 0.5520 - acc: 0.7820 - val_loss: 0.5203 - val_acc: 0.7818\n",
      "Epoch 17/50\n",
      " - 0s - loss: 0.5455 - acc: 0.7789 - val_loss: 0.5043 - val_acc: 0.8009\n",
      "Epoch 18/50\n",
      " - 0s - loss: 0.5391 - acc: 0.7801 - val_loss: 0.5084 - val_acc: 0.7943\n",
      "Epoch 19/50\n",
      " - 0s - loss: 0.5263 - acc: 0.7885 - val_loss: 0.5126 - val_acc: 0.7953\n",
      "Epoch 20/50\n",
      " - 0s - loss: 0.5071 - acc: 0.7913 - val_loss: 0.4949 - val_acc: 0.7905\n",
      "Epoch 21/50\n",
      " - 0s - loss: 0.5034 - acc: 0.7961 - val_loss: 0.4717 - val_acc: 0.8030\n",
      "Epoch 22/50\n",
      " - 0s - loss: 0.4889 - acc: 0.8000 - val_loss: 0.5037 - val_acc: 0.7932\n",
      "Epoch 23/50\n",
      " - 0s - loss: 0.5041 - acc: 0.7952 - val_loss: 0.4821 - val_acc: 0.7995\n",
      "Epoch 24/50\n",
      " - 0s - loss: 0.4871 - acc: 0.7983 - val_loss: 0.4762 - val_acc: 0.7978\n",
      "Epoch 25/50\n",
      " - 0s - loss: 0.4778 - acc: 0.8038 - val_loss: 0.4767 - val_acc: 0.7974\n",
      "Epoch 26/50\n",
      " - 0s - loss: 0.4818 - acc: 0.8056 - val_loss: 0.4795 - val_acc: 0.8040\n",
      "Epoch 27/50\n",
      " - 0s - loss: 0.4710 - acc: 0.8067 - val_loss: 0.4585 - val_acc: 0.8187\n",
      "Epoch 28/50\n",
      " - 0s - loss: 0.4610 - acc: 0.8146 - val_loss: 0.4651 - val_acc: 0.8107\n",
      "Epoch 29/50\n",
      " - 0s - loss: 0.4636 - acc: 0.8148 - val_loss: 0.4751 - val_acc: 0.8093\n",
      "Epoch 30/50\n",
      " - 0s - loss: 0.4562 - acc: 0.8151 - val_loss: 0.4566 - val_acc: 0.8197\n",
      "Epoch 31/50\n",
      " - 0s - loss: 0.4549 - acc: 0.8130 - val_loss: 0.4628 - val_acc: 0.8138\n",
      "Epoch 32/50\n",
      " - 0s - loss: 0.4406 - acc: 0.8245 - val_loss: 0.4653 - val_acc: 0.8173\n",
      "Epoch 33/50\n",
      " - 0s - loss: 0.4377 - acc: 0.8239 - val_loss: 0.4636 - val_acc: 0.8169\n",
      "Epoch 34/50\n",
      " - 0s - loss: 0.4310 - acc: 0.8285 - val_loss: 0.4580 - val_acc: 0.8211\n",
      "Epoch 35/50\n",
      " - 0s - loss: 0.4333 - acc: 0.8243 - val_loss: 0.4500 - val_acc: 0.8134\n",
      "Epoch 36/50\n",
      " - 0s - loss: 0.4278 - acc: 0.8235 - val_loss: 0.4515 - val_acc: 0.8253\n",
      "Epoch 37/50\n",
      " - 0s - loss: 0.4257 - acc: 0.8299 - val_loss: 0.4549 - val_acc: 0.8207\n",
      "Epoch 38/50\n",
      " - 0s - loss: 0.4194 - acc: 0.8326 - val_loss: 0.4447 - val_acc: 0.8267\n",
      "Epoch 39/50\n",
      " - 0s - loss: 0.4103 - acc: 0.8365 - val_loss: 0.4439 - val_acc: 0.8343\n",
      "Epoch 40/50\n",
      " - 0s - loss: 0.4153 - acc: 0.8279 - val_loss: 0.4510 - val_acc: 0.8173\n",
      "Epoch 41/50\n",
      " - 0s - loss: 0.3982 - acc: 0.8400 - val_loss: 0.4371 - val_acc: 0.8350\n",
      "Epoch 42/50\n",
      " - 0s - loss: 0.4043 - acc: 0.8380 - val_loss: 0.4472 - val_acc: 0.8249\n",
      "Epoch 43/50\n",
      " - 0s - loss: 0.3953 - acc: 0.8387 - val_loss: 0.4529 - val_acc: 0.8221\n",
      "Epoch 44/50\n",
      " - 0s - loss: 0.3921 - acc: 0.8429 - val_loss: 0.4719 - val_acc: 0.8263\n",
      "Epoch 45/50\n",
      " - 0s - loss: 0.3924 - acc: 0.8443 - val_loss: 0.4349 - val_acc: 0.8329\n",
      "Epoch 46/50\n",
      " - 0s - loss: 0.3888 - acc: 0.8463 - val_loss: 0.4356 - val_acc: 0.8354\n",
      "Epoch 47/50\n",
      " - 0s - loss: 0.3919 - acc: 0.8444 - val_loss: 0.4506 - val_acc: 0.8305\n",
      "Epoch 48/50\n",
      " - 0s - loss: 0.3894 - acc: 0.8470 - val_loss: 0.4492 - val_acc: 0.8305\n",
      "Epoch 49/50\n",
      " - 0s - loss: 0.3750 - acc: 0.8500 - val_loss: 0.4337 - val_acc: 0.8361\n",
      "Epoch 50/50\n",
      " - 0s - loss: 0.3717 - acc: 0.8473 - val_loss: 0.4529 - val_acc: 0.8301\n"
     ]
    }
   ],
   "source": [
    "train_history=model.fit(x=data_train,    #正規化的訓練樣本圖片\n",
    "                        y=y_train,          #One-hot 編碼\n",
    "                        validation_split=0.2,      #分出 20% 做驗證\n",
    "                        epochs=50,                      #設定訓練週期 (輪)\n",
    "                        batch_size=256,              #每批次訓練筆數\n",
    "                        verbose=2) "
   ]
  },
  {
   "cell_type": "code",
   "execution_count": 195,
   "metadata": {},
   "outputs": [
    {
     "name": "stdout",
     "output_type": "stream",
     "text": [
      "Train on 11491 samples, validate on 2873 samples\n",
      "Epoch 1/50\n",
      " - 3s - loss: 0.3532 - acc: 0.8608 - val_loss: 0.4295 - val_acc: 0.8402\n",
      "Epoch 2/50\n",
      " - 0s - loss: 0.3453 - acc: 0.8663 - val_loss: 0.4214 - val_acc: 0.8434\n",
      "Epoch 3/50\n",
      " - 0s - loss: 0.3344 - acc: 0.8678 - val_loss: 0.4196 - val_acc: 0.8413\n",
      "Epoch 4/50\n",
      " - 0s - loss: 0.3345 - acc: 0.8644 - val_loss: 0.4189 - val_acc: 0.8413\n",
      "Epoch 5/50\n",
      " - 0s - loss: 0.3244 - acc: 0.8748 - val_loss: 0.4165 - val_acc: 0.8416\n",
      "Epoch 6/50\n",
      " - 0s - loss: 0.3203 - acc: 0.8724 - val_loss: 0.4178 - val_acc: 0.8437\n",
      "Epoch 7/50\n",
      " - 0s - loss: 0.3248 - acc: 0.8714 - val_loss: 0.4194 - val_acc: 0.8451\n",
      "Epoch 8/50\n",
      " - 0s - loss: 0.3246 - acc: 0.8720 - val_loss: 0.4173 - val_acc: 0.8437\n",
      "Epoch 9/50\n",
      " - 0s - loss: 0.3193 - acc: 0.8756 - val_loss: 0.4172 - val_acc: 0.8420\n",
      "Epoch 10/50\n",
      " - 0s - loss: 0.3297 - acc: 0.8682 - val_loss: 0.4180 - val_acc: 0.8420\n",
      "Epoch 11/50\n",
      " - 0s - loss: 0.3149 - acc: 0.8785 - val_loss: 0.4156 - val_acc: 0.8448\n",
      "Epoch 12/50\n",
      " - 0s - loss: 0.3123 - acc: 0.8770 - val_loss: 0.4161 - val_acc: 0.8441\n",
      "Epoch 13/50\n",
      " - 0s - loss: 0.3177 - acc: 0.8741 - val_loss: 0.4193 - val_acc: 0.8434\n",
      "Epoch 14/50\n",
      " - 0s - loss: 0.3171 - acc: 0.8766 - val_loss: 0.4158 - val_acc: 0.8465\n",
      "Epoch 15/50\n",
      " - 0s - loss: 0.3086 - acc: 0.8812 - val_loss: 0.4153 - val_acc: 0.8462\n",
      "Epoch 16/50\n",
      " - 0s - loss: 0.3073 - acc: 0.8776 - val_loss: 0.4128 - val_acc: 0.8465\n",
      "Epoch 17/50\n",
      " - 0s - loss: 0.3076 - acc: 0.8806 - val_loss: 0.4172 - val_acc: 0.8465\n",
      "Epoch 18/50\n",
      " - 0s - loss: 0.3092 - acc: 0.8807 - val_loss: 0.4173 - val_acc: 0.8475\n",
      "Epoch 19/50\n",
      " - 0s - loss: 0.3096 - acc: 0.8782 - val_loss: 0.4150 - val_acc: 0.8496\n",
      "Epoch 20/50\n",
      " - 0s - loss: 0.3060 - acc: 0.8809 - val_loss: 0.4184 - val_acc: 0.8465\n",
      "Epoch 21/50\n",
      " - 0s - loss: 0.3047 - acc: 0.8789 - val_loss: 0.4195 - val_acc: 0.8441\n",
      "Epoch 22/50\n",
      " - 0s - loss: 0.3105 - acc: 0.8775 - val_loss: 0.4172 - val_acc: 0.8472\n",
      "Epoch 23/50\n",
      " - 0s - loss: 0.2995 - acc: 0.8822 - val_loss: 0.4168 - val_acc: 0.8465\n",
      "Epoch 24/50\n",
      " - 0s - loss: 0.3021 - acc: 0.8834 - val_loss: 0.4204 - val_acc: 0.8489\n",
      "Epoch 25/50\n",
      " - 0s - loss: 0.3026 - acc: 0.8792 - val_loss: 0.4181 - val_acc: 0.8465\n",
      "Epoch 26/50\n",
      " - 0s - loss: 0.3037 - acc: 0.8783 - val_loss: 0.4142 - val_acc: 0.8465\n",
      "Epoch 27/50\n",
      " - 0s - loss: 0.3036 - acc: 0.8808 - val_loss: 0.4177 - val_acc: 0.8451\n",
      "Epoch 28/50\n",
      " - 0s - loss: 0.2977 - acc: 0.8838 - val_loss: 0.4197 - val_acc: 0.8468\n",
      "Epoch 29/50\n",
      " - 0s - loss: 0.2927 - acc: 0.8860 - val_loss: 0.4160 - val_acc: 0.8472\n",
      "Epoch 30/50\n",
      " - 0s - loss: 0.2955 - acc: 0.8829 - val_loss: 0.4184 - val_acc: 0.8493\n",
      "Epoch 31/50\n",
      " - 0s - loss: 0.3001 - acc: 0.8816 - val_loss: 0.4194 - val_acc: 0.8503\n",
      "Epoch 32/50\n",
      " - 0s - loss: 0.2958 - acc: 0.8843 - val_loss: 0.4173 - val_acc: 0.8479\n",
      "Epoch 33/50\n",
      " - 0s - loss: 0.2977 - acc: 0.8768 - val_loss: 0.4177 - val_acc: 0.8472\n",
      "Epoch 34/50\n",
      " - 0s - loss: 0.2994 - acc: 0.8818 - val_loss: 0.4159 - val_acc: 0.8493\n",
      "Epoch 35/50\n",
      " - 0s - loss: 0.2956 - acc: 0.8836 - val_loss: 0.4176 - val_acc: 0.8458\n",
      "Epoch 36/50\n",
      " - 0s - loss: 0.3008 - acc: 0.8791 - val_loss: 0.4184 - val_acc: 0.8496\n",
      "Epoch 37/50\n",
      " - 0s - loss: 0.2989 - acc: 0.8823 - val_loss: 0.4190 - val_acc: 0.8475\n",
      "Epoch 38/50\n",
      " - 0s - loss: 0.2920 - acc: 0.8853 - val_loss: 0.4199 - val_acc: 0.8465\n",
      "Epoch 39/50\n",
      " - 0s - loss: 0.2843 - acc: 0.8863 - val_loss: 0.4198 - val_acc: 0.8482\n",
      "Epoch 40/50\n",
      " - 0s - loss: 0.2957 - acc: 0.8831 - val_loss: 0.4207 - val_acc: 0.8465\n",
      "Epoch 41/50\n",
      " - 0s - loss: 0.2874 - acc: 0.8864 - val_loss: 0.4183 - val_acc: 0.8462\n",
      "Epoch 42/50\n",
      " - 0s - loss: 0.2946 - acc: 0.8858 - val_loss: 0.4199 - val_acc: 0.8455\n",
      "Epoch 43/50\n",
      " - 0s - loss: 0.2983 - acc: 0.8798 - val_loss: 0.4187 - val_acc: 0.8455\n",
      "Epoch 44/50\n",
      " - 0s - loss: 0.2963 - acc: 0.8795 - val_loss: 0.4152 - val_acc: 0.8468\n",
      "Epoch 45/50\n",
      " - 0s - loss: 0.2907 - acc: 0.8846 - val_loss: 0.4165 - val_acc: 0.8465\n",
      "Epoch 46/50\n",
      " - 0s - loss: 0.2897 - acc: 0.8879 - val_loss: 0.4203 - val_acc: 0.8465\n",
      "Epoch 47/50\n",
      " - 0s - loss: 0.2832 - acc: 0.8869 - val_loss: 0.4195 - val_acc: 0.8468\n",
      "Epoch 48/50\n",
      " - 0s - loss: 0.2720 - acc: 0.8911 - val_loss: 0.4208 - val_acc: 0.8507\n",
      "Epoch 49/50\n",
      " - 0s - loss: 0.2846 - acc: 0.8882 - val_loss: 0.4232 - val_acc: 0.8472\n",
      "Epoch 50/50\n",
      " - 0s - loss: 0.2794 - acc: 0.8905 - val_loss: 0.4223 - val_acc: 0.8458\n"
     ]
    }
   ],
   "source": [
    "model.compile(loss='categorical_crossentropy',   #設定損失函數\n",
    "            optimizer=optimizers.Adam(lr=3e-4),                     #設定最佳化方法\n",
    "            metrics=['accuracy'])\n",
    "train_history=model.fit(x=data_train,    #正規化的訓練樣本圖片\n",
    "                        y=y_train,          #One-hot 編碼\n",
    "                        validation_split=0.2,      #分出 20% 做驗證\n",
    "                        epochs=50,                      #設定訓練週期 (輪)\n",
    "                        batch_size=256,              #每批次訓練筆數\n",
    "                        verbose=2)"
   ]
  },
  {
   "cell_type": "code",
   "execution_count": 202,
   "metadata": {},
   "outputs": [
    {
     "name": "stdout",
     "output_type": "stream",
     "text": [
      "Train on 11491 samples, validate on 2873 samples\n",
      "Epoch 1/50\n",
      " - 4s - loss: 0.2481 - acc: 0.8985 - val_loss: 0.4244 - val_acc: 0.8545\n",
      "Epoch 2/50\n",
      " - 0s - loss: 0.2486 - acc: 0.9008 - val_loss: 0.4245 - val_acc: 0.8556\n",
      "Epoch 3/50\n",
      " - 0s - loss: 0.2546 - acc: 0.9011 - val_loss: 0.4246 - val_acc: 0.8559\n",
      "Epoch 4/50\n",
      " - 0s - loss: 0.2551 - acc: 0.9004 - val_loss: 0.4244 - val_acc: 0.8559\n",
      "Epoch 5/50\n",
      " - 0s - loss: 0.2528 - acc: 0.8983 - val_loss: 0.4251 - val_acc: 0.8559\n",
      "Epoch 6/50\n",
      " - 0s - loss: 0.2457 - acc: 0.9011 - val_loss: 0.4249 - val_acc: 0.8559\n",
      "Epoch 7/50\n",
      " - 0s - loss: 0.2465 - acc: 0.9049 - val_loss: 0.4249 - val_acc: 0.8559\n",
      "Epoch 8/50\n",
      " - 0s - loss: 0.2487 - acc: 0.9036 - val_loss: 0.4247 - val_acc: 0.8559\n",
      "Epoch 9/50\n",
      " - 0s - loss: 0.2509 - acc: 0.9006 - val_loss: 0.4246 - val_acc: 0.8562\n",
      "Epoch 10/50\n",
      " - 0s - loss: 0.2536 - acc: 0.9021 - val_loss: 0.4248 - val_acc: 0.8566\n",
      "Epoch 11/50\n",
      " - 0s - loss: 0.2495 - acc: 0.9027 - val_loss: 0.4251 - val_acc: 0.8562\n",
      "Epoch 12/50\n",
      " - 0s - loss: 0.2521 - acc: 0.9017 - val_loss: 0.4256 - val_acc: 0.8566\n",
      "Epoch 13/50\n",
      " - 0s - loss: 0.2474 - acc: 0.9030 - val_loss: 0.4255 - val_acc: 0.8569\n",
      "Epoch 14/50\n",
      " - 0s - loss: 0.2470 - acc: 0.9038 - val_loss: 0.4252 - val_acc: 0.8556\n",
      "Epoch 15/50\n",
      " - 0s - loss: 0.2460 - acc: 0.9023 - val_loss: 0.4249 - val_acc: 0.8559\n",
      "Epoch 16/50\n",
      " - 0s - loss: 0.2513 - acc: 0.9024 - val_loss: 0.4250 - val_acc: 0.8556\n",
      "Epoch 17/50\n",
      " - 0s - loss: 0.2503 - acc: 0.9000 - val_loss: 0.4251 - val_acc: 0.8556\n",
      "Epoch 18/50\n",
      " - 0s - loss: 0.2511 - acc: 0.9034 - val_loss: 0.4253 - val_acc: 0.8556\n",
      "Epoch 19/50\n",
      " - 0s - loss: 0.2483 - acc: 0.8991 - val_loss: 0.4252 - val_acc: 0.8559\n",
      "Epoch 20/50\n",
      " - 0s - loss: 0.2549 - acc: 0.9004 - val_loss: 0.4251 - val_acc: 0.8559\n",
      "Epoch 21/50\n",
      " - 0s - loss: 0.2425 - acc: 0.9022 - val_loss: 0.4254 - val_acc: 0.8559\n",
      "Epoch 22/50\n",
      " - 0s - loss: 0.2452 - acc: 0.9013 - val_loss: 0.4254 - val_acc: 0.8559\n",
      "Epoch 23/50\n",
      " - 0s - loss: 0.2447 - acc: 0.9038 - val_loss: 0.4253 - val_acc: 0.8556\n",
      "Epoch 24/50\n",
      " - 0s - loss: 0.2531 - acc: 0.9001 - val_loss: 0.4258 - val_acc: 0.8552\n",
      "Epoch 25/50\n",
      " - 0s - loss: 0.2413 - acc: 0.9078 - val_loss: 0.4264 - val_acc: 0.8549\n",
      "Epoch 26/50\n",
      " - 0s - loss: 0.2482 - acc: 0.9031 - val_loss: 0.4264 - val_acc: 0.8549\n",
      "Epoch 27/50\n",
      " - 0s - loss: 0.2455 - acc: 0.9033 - val_loss: 0.4259 - val_acc: 0.8552\n",
      "Epoch 28/50\n",
      " - 0s - loss: 0.2445 - acc: 0.9035 - val_loss: 0.4266 - val_acc: 0.8552\n",
      "Epoch 29/50\n",
      " - 0s - loss: 0.2523 - acc: 0.9005 - val_loss: 0.4270 - val_acc: 0.8552\n",
      "Epoch 30/50\n",
      " - 0s - loss: 0.2463 - acc: 0.9026 - val_loss: 0.4273 - val_acc: 0.8552\n",
      "Epoch 31/50\n",
      " - 0s - loss: 0.2446 - acc: 0.9039 - val_loss: 0.4271 - val_acc: 0.8552\n",
      "Epoch 32/50\n",
      " - 0s - loss: 0.2440 - acc: 0.9038 - val_loss: 0.4270 - val_acc: 0.8549\n",
      "Epoch 33/50\n",
      " - 0s - loss: 0.2510 - acc: 0.9012 - val_loss: 0.4271 - val_acc: 0.8545\n",
      "Epoch 34/50\n",
      " - 0s - loss: 0.2453 - acc: 0.9028 - val_loss: 0.4272 - val_acc: 0.8552\n",
      "Epoch 35/50\n",
      " - 0s - loss: 0.2478 - acc: 0.9031 - val_loss: 0.4273 - val_acc: 0.8549\n",
      "Epoch 36/50\n",
      " - 0s - loss: 0.2502 - acc: 0.8991 - val_loss: 0.4270 - val_acc: 0.8549\n",
      "Epoch 37/50\n",
      " - 0s - loss: 0.2485 - acc: 0.9041 - val_loss: 0.4267 - val_acc: 0.8545\n",
      "Epoch 38/50\n",
      " - 0s - loss: 0.2449 - acc: 0.9044 - val_loss: 0.4264 - val_acc: 0.8542\n",
      "Epoch 39/50\n",
      " - 0s - loss: 0.2474 - acc: 0.9025 - val_loss: 0.4268 - val_acc: 0.8542\n",
      "Epoch 40/50\n",
      " - 0s - loss: 0.2434 - acc: 0.9024 - val_loss: 0.4267 - val_acc: 0.8542\n",
      "Epoch 41/50\n",
      " - 0s - loss: 0.2551 - acc: 0.8996 - val_loss: 0.4265 - val_acc: 0.8545\n",
      "Epoch 42/50\n",
      " - 0s - loss: 0.2480 - acc: 0.9042 - val_loss: 0.4264 - val_acc: 0.8545\n",
      "Epoch 43/50\n",
      " - 0s - loss: 0.2443 - acc: 0.9049 - val_loss: 0.4266 - val_acc: 0.8545\n",
      "Epoch 44/50\n",
      " - 0s - loss: 0.2567 - acc: 0.8993 - val_loss: 0.4265 - val_acc: 0.8542\n",
      "Epoch 45/50\n",
      " - 0s - loss: 0.2503 - acc: 0.9000 - val_loss: 0.4269 - val_acc: 0.8538\n",
      "Epoch 46/50\n",
      " - 0s - loss: 0.2452 - acc: 0.9024 - val_loss: 0.4270 - val_acc: 0.8549\n",
      "Epoch 47/50\n",
      " - 0s - loss: 0.2524 - acc: 0.9021 - val_loss: 0.4270 - val_acc: 0.8552\n",
      "Epoch 48/50\n",
      " - 0s - loss: 0.2514 - acc: 0.9017 - val_loss: 0.4271 - val_acc: 0.8545\n",
      "Epoch 49/50\n",
      " - 0s - loss: 0.2481 - acc: 0.8993 - val_loss: 0.4270 - val_acc: 0.8545\n",
      "Epoch 50/50\n",
      " - 0s - loss: 0.2484 - acc: 0.9011 - val_loss: 0.4266 - val_acc: 0.8545\n"
     ]
    }
   ],
   "source": [
    "model.compile(loss='categorical_crossentropy',   #設定損失函數\n",
    "            optimizer=optimizers.Adam(lr=1e-5),                     #設定最佳化方法\n",
    "            metrics=['accuracy'])\n",
    "train_history=model.fit(x=data_train,    #正規化的訓練樣本圖片\n",
    "                        y=y_train,          #One-hot 編碼\n",
    "                        validation_split=0.2,      #分出 20% 做驗證\n",
    "                        epochs=50,                      #設定訓練週期 (輪)\n",
    "                        batch_size=256,              #每批次訓練筆數\n",
    "                        verbose=2)"
   ]
  },
  {
   "cell_type": "code",
   "execution_count": 203,
   "metadata": {},
   "outputs": [],
   "source": [
    "model.save_weights('model_20190830.h5')"
   ]
  },
  {
   "cell_type": "code",
   "execution_count": 204,
   "metadata": {},
   "outputs": [],
   "source": [
    "pred = np.argmax( model.predict(data_test), 1)+1"
   ]
  },
  {
   "cell_type": "code",
   "execution_count": 207,
   "metadata": {},
   "outputs": [],
   "source": [
    "df = pd.DataFrame( {'id': test.index, 'class':pred}, index=range(len(data_test)))\n",
    "df.to_csv('sub_6.csv', index=False)"
   ]
  },
  {
   "cell_type": "code",
   "execution_count": 206,
   "metadata": {},
   "outputs": [
    {
     "data": {
      "text/plain": [
       "(756, 54)"
      ]
     },
     "execution_count": 206,
     "metadata": {},
     "output_type": "execute_result"
    }
   ],
   "source": [
    "data_test.shape"
   ]
  },
  {
   "cell_type": "code",
   "execution_count": null,
   "metadata": {},
   "outputs": [],
   "source": []
  }
 ],
 "metadata": {
  "kernelspec": {
   "display_name": "Python 3",
   "language": "python",
   "name": "python3"
  },
  "language_info": {
   "codemirror_mode": {
    "name": "ipython",
    "version": 3
   },
   "file_extension": ".py",
   "mimetype": "text/x-python",
   "name": "python",
   "nbconvert_exporter": "python",
   "pygments_lexer": "ipython3",
   "version": "3.6.6"
  }
 },
 "nbformat": 4,
 "nbformat_minor": 2
}
