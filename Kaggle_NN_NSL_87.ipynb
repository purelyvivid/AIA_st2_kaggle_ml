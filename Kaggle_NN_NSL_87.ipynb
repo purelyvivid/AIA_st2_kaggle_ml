{
 "cells": [
  {
   "cell_type": "code",
   "execution_count": null,
   "metadata": {},
   "outputs": [],
   "source": [
    "! pip install --upgrade pip\n",
    "! pip install tensorflow-gpu\n",
    "! pip install --upgrade neural_structured_learning"
   ]
  },
  {
   "cell_type": "code",
   "execution_count": 1,
   "metadata": {},
   "outputs": [],
   "source": [
    "import warnings\n",
    "warnings.filterwarnings(\"ignore\")\n",
    "%matplotlib inline"
   ]
  },
  {
   "cell_type": "code",
   "execution_count": 2,
   "metadata": {},
   "outputs": [],
   "source": [
    "import pandas as pd\n",
    "import numpy as np\n",
    "import matplotlib.pyplot as plt\n",
    "from sklearn.preprocessing import StandardScaler, Normalizer\n",
    "import pickle\n",
    "from sklearn.model_selection import train_test_split"
   ]
  },
  {
   "cell_type": "code",
   "execution_count": 3,
   "metadata": {},
   "outputs": [],
   "source": [
    "from tensorflow.keras.models import Sequential\n",
    "from tensorflow.keras.utils import to_categorical\n",
    "from tensorflow.keras.layers import Dense, BatchNormalization, Dropout, LeakyReLU\n",
    "from tensorflow.keras.optimizers import Adam, SGD\n",
    "import neural_structured_learning as nsl # 剛發布的套件!!"
   ]
  },
  {
   "cell_type": "code",
   "execution_count": 4,
   "metadata": {},
   "outputs": [
    {
     "data": {
      "text/plain": [
       "((14364, 55), (756, 54))"
      ]
     },
     "execution_count": 4,
     "metadata": {},
     "output_type": "execute_result"
    }
   ],
   "source": [
    "train = pd.read_csv('train.csv', index_col=0)\n",
    "test = pd.read_csv('test.csv', index_col=0)\n",
    "train.shape, test.shape"
   ]
  },
  {
   "cell_type": "code",
   "execution_count": 5,
   "metadata": {},
   "outputs": [],
   "source": [
    "# 處理y\n",
    "y_train = train['Cover_Type']-1 #減一是為了把 {1,...,7}變更範圍到{0,...,6}\n",
    "y_train = to_categorical(y_train)\n",
    "del train['Cover_Type']"
   ]
  },
  {
   "cell_type": "code",
   "execution_count": 6,
   "metadata": {},
   "outputs": [
    {
     "data": {
      "text/plain": [
       "(15120, 54)"
      ]
     },
     "execution_count": 6,
     "metadata": {},
     "output_type": "execute_result"
    }
   ],
   "source": [
    "def data_prepro(data, s=None):  \n",
    "    if s is None:\n",
    "        s = StandardScaler()\n",
    "        s.fit(data)\n",
    "        pickle.dump( s, open('s.pkl', 'wb') )\n",
    "\n",
    "    data = pd.DataFrame( s.transform(data), columns=data.columns, index=data.index)\n",
    "    return data\n",
    "\n",
    "# train和test一起做preprocess\n",
    "X = np.concatenate( (train, test), 0 )\n",
    "X = pd.DataFrame( X , columns=train.columns, index=list(train.index)+list(test.index) )\n",
    "X = data_prepro(X)\n",
    "X.shape"
   ]
  },
  {
   "cell_type": "code",
   "execution_count": 7,
   "metadata": {},
   "outputs": [
    {
     "data": {
      "text/plain": [
       "(14364, 54)"
      ]
     },
     "execution_count": 7,
     "metadata": {},
     "output_type": "execute_result"
    }
   ],
   "source": [
    "x_train = X.values[:train.shape[0], :]\n",
    "x_test = X.values[train.shape[0]:, :]\n",
    "x_train.shape"
   ]
  },
  {
   "cell_type": "code",
   "execution_count": 8,
   "metadata": {},
   "outputs": [],
   "source": [
    "model = Sequential()"
   ]
  },
  {
   "cell_type": "code",
   "execution_count": 9,
   "metadata": {},
   "outputs": [
    {
     "name": "stdout",
     "output_type": "stream",
     "text": [
      "WARNING:tensorflow:From /opt/conda/lib/python3.6/site-packages/tensorflow/python/keras/initializers.py:143: calling RandomNormal.__init__ (from tensorflow.python.ops.init_ops) with dtype is deprecated and will be removed in a future version.\n",
      "Instructions for updating:\n",
      "Call initializer instance with the dtype argument instead of passing it to the constructor\n"
     ]
    }
   ],
   "source": [
    "\n",
    "model.add(Dense(units=400,                    #建立輸入層至隱藏層連接\n",
    "           input_dim=54,                      #輸入神經元數目=784\n",
    "           kernel_initializer='he_normal',  #以常態分佈亂數初始化參數\n",
    "           activation=LeakyReLU(0.1))) \n",
    "model.add(Dropout(0.2))\n",
    "model.add(BatchNormalization())\n",
    "model.add(Dense(units=200,                    #建立輸入層至隱藏層連接\n",
    "           input_dim=400,                      #輸入神經元數目=784\n",
    "           kernel_initializer='he_normal',  #以常態分佈亂數初始化參數\n",
    "           activation=LeakyReLU(0.1))) \n",
    "model.add(Dropout(0.2))\n",
    "model.add(BatchNormalization())\n",
    "model.add(Dense(units=100,                    #建立輸入層至隱藏層連接\n",
    "           input_dim=200,                      #輸入神經元數目=784\n",
    "           kernel_initializer='he_normal',  #以常態分佈亂數初始化參數\n",
    "           activation=LeakyReLU(0.1))) \n",
    "model.add(Dense(units=50,                    #建立輸入層至隱藏層連接\n",
    "           input_dim=100,                      #輸入神經元數目=784\n",
    "           kernel_initializer='he_normal',  #以常態分佈亂數初始化參數\n",
    "           activation=LeakyReLU(0.1))) \n",
    "model.add(Dropout(0.2))\n",
    "model.add(BatchNormalization())\n",
    "model.add(Dense(units=20,                    #建立輸入層至隱藏層連接\n",
    "           input_dim=50,                      #輸入神經元數目=784\n",
    "           kernel_initializer='he_normal',  #以常態分佈亂數初始化參數\n",
    "           activation=LeakyReLU(0.1))) \n",
    "model.add(Dropout(0.2))\n",
    "model.add(BatchNormalization())\n",
    "model.add(Dense(units=7,                    #建立輸入層至隱藏層連接\n",
    "           input_dim=20,                      #輸入神經元數目=784\n",
    "           kernel_initializer='normal',  #以常態分佈亂數初始化參數\n",
    "           activation='softmax')) "
   ]
  },
  {
   "cell_type": "code",
   "execution_count": 10,
   "metadata": {},
   "outputs": [
    {
     "name": "stdout",
     "output_type": "stream",
     "text": [
      "Model: \"sequential\"\n",
      "_________________________________________________________________\n",
      "Layer (type)                 Output Shape              Param #   \n",
      "=================================================================\n",
      "dense (Dense)                (None, 400)               22000     \n",
      "_________________________________________________________________\n",
      "dropout (Dropout)            (None, 400)               0         \n",
      "_________________________________________________________________\n",
      "batch_normalization (BatchNo (None, 400)               1600      \n",
      "_________________________________________________________________\n",
      "dense_1 (Dense)              (None, 200)               80200     \n",
      "_________________________________________________________________\n",
      "dropout_1 (Dropout)          (None, 200)               0         \n",
      "_________________________________________________________________\n",
      "batch_normalization_1 (Batch (None, 200)               800       \n",
      "_________________________________________________________________\n",
      "dense_2 (Dense)              (None, 100)               20100     \n",
      "_________________________________________________________________\n",
      "dense_3 (Dense)              (None, 50)                5050      \n",
      "_________________________________________________________________\n",
      "dropout_2 (Dropout)          (None, 50)                0         \n",
      "_________________________________________________________________\n",
      "batch_normalization_2 (Batch (None, 50)                200       \n",
      "_________________________________________________________________\n",
      "dense_4 (Dense)              (None, 20)                1020      \n",
      "_________________________________________________________________\n",
      "dropout_3 (Dropout)          (None, 20)                0         \n",
      "_________________________________________________________________\n",
      "batch_normalization_3 (Batch (None, 20)                80        \n",
      "_________________________________________________________________\n",
      "dense_5 (Dense)              (None, 7)                 147       \n",
      "=================================================================\n",
      "Total params: 131,197\n",
      "Trainable params: 129,857\n",
      "Non-trainable params: 1,340\n",
      "_________________________________________________________________\n"
     ]
    }
   ],
   "source": [
    "model.summary()"
   ]
  },
  {
   "cell_type": "code",
   "execution_count": 11,
   "metadata": {},
   "outputs": [],
   "source": [
    "# Wrap the model with adversarial regularization.\n",
    "adv_config = nsl.configs.make_adv_reg_config(multiplier=0.2, adv_step_size=0.05)\n",
    "adv_model = nsl.keras.AdversarialRegularization(model, adv_config=adv_config)"
   ]
  },
  {
   "cell_type": "code",
   "execution_count": 12,
   "metadata": {},
   "outputs": [
    {
     "name": "stdout",
     "output_type": "stream",
     "text": [
      "WARNING:tensorflow:From /opt/conda/lib/python3.6/site-packages/neural_structured_learning/keras/adversarial_regularization.py:160: The name tf.losses.Reduction is deprecated. Please use tf.compat.v1.losses.Reduction instead.\n",
      "\n",
      "WARNING:tensorflow:Output output_1 missing from loss dictionary. We assume this was done on purpose. The fit and evaluate APIs will not be expecting any data to be passed to output_1.\n",
      "Epoch 1/50\n",
      "14364/14364 [==============================] - 1s 60us/sample - loss: 1.3096 - categorical_crossentropy: 1.3022 - categorical_accuracy: 0.5506\n",
      "Epoch 2/50\n",
      "14364/14364 [==============================] - 0s 30us/sample - loss: 0.8703 - categorical_crossentropy: 0.8684 - categorical_accuracy: 0.6579\n",
      "Epoch 3/50\n",
      "14364/14364 [==============================] - 0s 29us/sample - loss: 0.7801 - categorical_crossentropy: 0.7781 - categorical_accuracy: 0.6866\n",
      "Epoch 4/50\n",
      "14364/14364 [==============================] - 0s 29us/sample - loss: 0.7175 - categorical_crossentropy: 0.7199 - categorical_accuracy: 0.7146\n",
      "Epoch 5/50\n",
      "14364/14364 [==============================] - 0s 29us/sample - loss: 0.6867 - categorical_crossentropy: 0.6897 - categorical_accuracy: 0.7240\n",
      "Epoch 6/50\n",
      "14364/14364 [==============================] - 0s 30us/sample - loss: 0.6741 - categorical_crossentropy: 0.6811 - categorical_accuracy: 0.7267\n",
      "Epoch 7/50\n",
      "14364/14364 [==============================] - 0s 29us/sample - loss: 0.6559 - categorical_crossentropy: 0.6549 - categorical_accuracy: 0.7360\n",
      "Epoch 8/50\n",
      "14364/14364 [==============================] - 0s 29us/sample - loss: 0.6344 - categorical_crossentropy: 0.6362 - categorical_accuracy: 0.7414\n",
      "Epoch 9/50\n",
      "14364/14364 [==============================] - 0s 29us/sample - loss: 0.6183 - categorical_crossentropy: 0.6162 - categorical_accuracy: 0.7485\n",
      "Epoch 10/50\n",
      "14364/14364 [==============================] - 0s 30us/sample - loss: 0.6103 - categorical_crossentropy: 0.6096 - categorical_accuracy: 0.7530\n",
      "Epoch 11/50\n",
      "14364/14364 [==============================] - 0s 30us/sample - loss: 0.5863 - categorical_crossentropy: 0.5889 - categorical_accuracy: 0.7607\n",
      "Epoch 12/50\n",
      "14364/14364 [==============================] - 0s 30us/sample - loss: 0.5830 - categorical_crossentropy: 0.5926 - categorical_accuracy: 0.7639\n",
      "Epoch 13/50\n",
      "14364/14364 [==============================] - 0s 30us/sample - loss: 0.5879 - categorical_crossentropy: 0.5855 - categorical_accuracy: 0.7618\n",
      "Epoch 14/50\n",
      "14364/14364 [==============================] - 0s 30us/sample - loss: 0.5579 - categorical_crossentropy: 0.5586 - categorical_accuracy: 0.7715\n",
      "Epoch 15/50\n",
      "14364/14364 [==============================] - 0s 29us/sample - loss: 0.5408 - categorical_crossentropy: 0.5420 - categorical_accuracy: 0.7809\n",
      "Epoch 16/50\n",
      "14364/14364 [==============================] - 0s 29us/sample - loss: 0.5369 - categorical_crossentropy: 0.5414 - categorical_accuracy: 0.7809\n",
      "Epoch 17/50\n",
      "14364/14364 [==============================] - 0s 29us/sample - loss: 0.5429 - categorical_crossentropy: 0.5424 - categorical_accuracy: 0.7808\n",
      "Epoch 18/50\n",
      "14364/14364 [==============================] - 0s 29us/sample - loss: 0.5185 - categorical_crossentropy: 0.5210 - categorical_accuracy: 0.7877\n",
      "Epoch 19/50\n",
      "14364/14364 [==============================] - 0s 30us/sample - loss: 0.5246 - categorical_crossentropy: 0.5267 - categorical_accuracy: 0.7883\n",
      "Epoch 20/50\n",
      "14364/14364 [==============================] - 0s 30us/sample - loss: 0.5040 - categorical_crossentropy: 0.5050 - categorical_accuracy: 0.7916\n",
      "Epoch 21/50\n",
      "14364/14364 [==============================] - 0s 29us/sample - loss: 0.5047 - categorical_crossentropy: 0.5081 - categorical_accuracy: 0.7947\n",
      "Epoch 22/50\n",
      "14364/14364 [==============================] - 0s 29us/sample - loss: 0.4981 - categorical_crossentropy: 0.4966 - categorical_accuracy: 0.7978\n",
      "Epoch 23/50\n",
      "14364/14364 [==============================] - 0s 29us/sample - loss: 0.4923 - categorical_crossentropy: 0.4932 - categorical_accuracy: 0.8008\n",
      "Epoch 24/50\n",
      "14364/14364 [==============================] - 0s 29us/sample - loss: 0.4904 - categorical_crossentropy: 0.4937 - categorical_accuracy: 0.8004\n",
      "Epoch 25/50\n",
      "14364/14364 [==============================] - 0s 29us/sample - loss: 0.4964 - categorical_crossentropy: 0.5013 - categorical_accuracy: 0.8001\n",
      "Epoch 26/50\n",
      "14364/14364 [==============================] - 0s 30us/sample - loss: 0.4906 - categorical_crossentropy: 0.5027 - categorical_accuracy: 0.8011\n",
      "Epoch 27/50\n",
      "14364/14364 [==============================] - 0s 30us/sample - loss: 0.4814 - categorical_crossentropy: 0.4909 - categorical_accuracy: 0.8072\n",
      "Epoch 28/50\n",
      "14364/14364 [==============================] - 0s 29us/sample - loss: 0.4841 - categorical_crossentropy: 0.4873 - categorical_accuracy: 0.8049\n",
      "Epoch 29/50\n",
      "14364/14364 [==============================] - 0s 30us/sample - loss: 0.4682 - categorical_crossentropy: 0.4707 - categorical_accuracy: 0.8125\n",
      "Epoch 30/50\n",
      "14364/14364 [==============================] - 0s 29us/sample - loss: 0.4644 - categorical_crossentropy: 0.4716 - categorical_accuracy: 0.8129\n",
      "Epoch 31/50\n",
      "14364/14364 [==============================] - 0s 30us/sample - loss: 0.4612 - categorical_crossentropy: 0.4614 - categorical_accuracy: 0.8139\n",
      "Epoch 32/50\n",
      "14364/14364 [==============================] - 0s 30us/sample - loss: 0.4673 - categorical_crossentropy: 0.4718 - categorical_accuracy: 0.8099\n",
      "Epoch 33/50\n",
      "14364/14364 [==============================] - 0s 30us/sample - loss: 0.4551 - categorical_crossentropy: 0.4573 - categorical_accuracy: 0.8207\n",
      "Epoch 34/50\n",
      "14364/14364 [==============================] - 0s 30us/sample - loss: 0.4485 - categorical_crossentropy: 0.4513 - categorical_accuracy: 0.8212\n",
      "Epoch 35/50\n",
      "14364/14364 [==============================] - 0s 29us/sample - loss: 0.4423 - categorical_crossentropy: 0.4533 - categorical_accuracy: 0.8218\n",
      "Epoch 36/50\n",
      "14364/14364 [==============================] - 0s 30us/sample - loss: 0.4474 - categorical_crossentropy: 0.4493 - categorical_accuracy: 0.8174\n",
      "Epoch 37/50\n",
      "14364/14364 [==============================] - 0s 29us/sample - loss: 0.4417 - categorical_crossentropy: 0.4480 - categorical_accuracy: 0.8232\n",
      "Epoch 38/50\n",
      "14364/14364 [==============================] - 0s 30us/sample - loss: 0.4390 - categorical_crossentropy: 0.4466 - categorical_accuracy: 0.8253\n",
      "Epoch 39/50\n",
      "14364/14364 [==============================] - 0s 30us/sample - loss: 0.4342 - categorical_crossentropy: 0.4363 - categorical_accuracy: 0.8302\n",
      "Epoch 40/50\n",
      "14364/14364 [==============================] - 0s 29us/sample - loss: 0.4315 - categorical_crossentropy: 0.4377 - categorical_accuracy: 0.8292\n",
      "Epoch 41/50\n",
      "14364/14364 [==============================] - 0s 30us/sample - loss: 0.4234 - categorical_crossentropy: 0.4246 - categorical_accuracy: 0.8296\n",
      "Epoch 42/50\n",
      "14364/14364 [==============================] - 0s 30us/sample - loss: 0.4197 - categorical_crossentropy: 0.4180 - categorical_accuracy: 0.8356\n",
      "Epoch 43/50\n",
      "14364/14364 [==============================] - 0s 30us/sample - loss: 0.4157 - categorical_crossentropy: 0.4147 - categorical_accuracy: 0.8338\n",
      "Epoch 44/50\n",
      "14364/14364 [==============================] - 0s 30us/sample - loss: 0.4105 - categorical_crossentropy: 0.4116 - categorical_accuracy: 0.8362\n",
      "Epoch 45/50\n",
      "14364/14364 [==============================] - 0s 29us/sample - loss: 0.4173 - categorical_crossentropy: 0.4193 - categorical_accuracy: 0.8335\n",
      "Epoch 46/50\n",
      "14364/14364 [==============================] - 0s 29us/sample - loss: 0.4072 - categorical_crossentropy: 0.4128 - categorical_accuracy: 0.8361\n",
      "Epoch 47/50\n",
      "14364/14364 [==============================] - 0s 29us/sample - loss: 0.4174 - categorical_crossentropy: 0.4218 - categorical_accuracy: 0.8340\n",
      "Epoch 48/50\n",
      "14364/14364 [==============================] - 0s 29us/sample - loss: 0.4058 - categorical_crossentropy: 0.4032 - categorical_accuracy: 0.8388\n",
      "Epoch 49/50\n",
      "14364/14364 [==============================] - 0s 30us/sample - loss: 0.3981 - categorical_crossentropy: 0.3979 - categorical_accuracy: 0.8457\n",
      "Epoch 50/50\n",
      "14364/14364 [==============================] - 0s 30us/sample - loss: 0.3986 - categorical_crossentropy: 0.3975 - categorical_accuracy: 0.8431\n"
     ]
    }
   ],
   "source": [
    "adv_model.compile(loss='categorical_crossentropy',   \n",
    "            optimizer=Adam(lr=3e-3),                     \n",
    "            metrics=['accuracy']) \n",
    "train_history=adv_model.fit({'feature': x_train, 'label': y_train},     \n",
    "                        epochs=50,                      \n",
    "                        batch_size=256) "
   ]
  },
  {
   "cell_type": "code",
   "execution_count": 16,
   "metadata": {},
   "outputs": [
    {
     "name": "stdout",
     "output_type": "stream",
     "text": [
      "WARNING:tensorflow:Output output_1 missing from loss dictionary. We assume this was done on purpose. The fit and evaluate APIs will not be expecting any data to be passed to output_1.\n",
      "Epoch 1/50\n",
      "14364/14364 [==============================] - 1s 61us/sample - loss: 0.3736 - categorical_crossentropy: 0.3733 - categorical_accuracy: 0.8548\n",
      "Epoch 2/50\n",
      "14364/14364 [==============================] - 0s 30us/sample - loss: 0.3603 - categorical_crossentropy: 0.3652 - categorical_accuracy: 0.8568\n",
      "Epoch 3/50\n",
      "14364/14364 [==============================] - 0s 30us/sample - loss: 0.3564 - categorical_crossentropy: 0.3558 - categorical_accuracy: 0.8606\n",
      "Epoch 4/50\n",
      "14364/14364 [==============================] - 0s 29us/sample - loss: 0.3550 - categorical_crossentropy: 0.3613 - categorical_accuracy: 0.8626\n",
      "Epoch 5/50\n",
      "14364/14364 [==============================] - 0s 29us/sample - loss: 0.3507 - categorical_crossentropy: 0.3515 - categorical_accuracy: 0.8606\n",
      "Epoch 6/50\n",
      "14364/14364 [==============================] - 0s 29us/sample - loss: 0.3536 - categorical_crossentropy: 0.3537 - categorical_accuracy: 0.8620\n",
      "Epoch 7/50\n",
      "14364/14364 [==============================] - 0s 30us/sample - loss: 0.3471 - categorical_crossentropy: 0.3525 - categorical_accuracy: 0.8646\n",
      "Epoch 8/50\n",
      "14364/14364 [==============================] - 0s 30us/sample - loss: 0.3447 - categorical_crossentropy: 0.3505 - categorical_accuracy: 0.8622\n",
      "Epoch 9/50\n",
      "14364/14364 [==============================] - 0s 30us/sample - loss: 0.3457 - categorical_crossentropy: 0.3480 - categorical_accuracy: 0.8626\n",
      "Epoch 10/50\n",
      "14364/14364 [==============================] - 0s 30us/sample - loss: 0.3371 - categorical_crossentropy: 0.3358 - categorical_accuracy: 0.8679\n",
      "Epoch 11/50\n",
      "14364/14364 [==============================] - 0s 30us/sample - loss: 0.3415 - categorical_crossentropy: 0.3475 - categorical_accuracy: 0.8643\n",
      "Epoch 12/50\n",
      "14364/14364 [==============================] - 0s 31us/sample - loss: 0.3334 - categorical_crossentropy: 0.3330 - categorical_accuracy: 0.8693\n",
      "Epoch 13/50\n",
      "14364/14364 [==============================] - 0s 30us/sample - loss: 0.3378 - categorical_crossentropy: 0.3409 - categorical_accuracy: 0.8668\n",
      "Epoch 14/50\n",
      "14364/14364 [==============================] - 0s 30us/sample - loss: 0.3357 - categorical_crossentropy: 0.3392 - categorical_accuracy: 0.8671\n",
      "Epoch 15/50\n",
      "14364/14364 [==============================] - 0s 30us/sample - loss: 0.3355 - categorical_crossentropy: 0.3377 - categorical_accuracy: 0.8647\n",
      "Epoch 16/50\n",
      "14364/14364 [==============================] - 0s 30us/sample - loss: 0.3417 - categorical_crossentropy: 0.3423 - categorical_accuracy: 0.8656\n",
      "Epoch 17/50\n",
      "14364/14364 [==============================] - 0s 30us/sample - loss: 0.3311 - categorical_crossentropy: 0.3320 - categorical_accuracy: 0.8720\n",
      "Epoch 18/50\n",
      "14364/14364 [==============================] - 0s 30us/sample - loss: 0.3363 - categorical_crossentropy: 0.3425 - categorical_accuracy: 0.8675\n",
      "Epoch 19/50\n",
      "14364/14364 [==============================] - 0s 30us/sample - loss: 0.3354 - categorical_crossentropy: 0.3348 - categorical_accuracy: 0.8706\n",
      "Epoch 20/50\n",
      "14364/14364 [==============================] - 0s 30us/sample - loss: 0.3262 - categorical_crossentropy: 0.3292 - categorical_accuracy: 0.8729\n",
      "Epoch 21/50\n",
      "14364/14364 [==============================] - 0s 29us/sample - loss: 0.3281 - categorical_crossentropy: 0.3292 - categorical_accuracy: 0.8723\n",
      "Epoch 22/50\n",
      "14364/14364 [==============================] - 0s 30us/sample - loss: 0.3304 - categorical_crossentropy: 0.3439 - categorical_accuracy: 0.8709\n",
      "Epoch 23/50\n",
      "14364/14364 [==============================] - 0s 30us/sample - loss: 0.3309 - categorical_crossentropy: 0.3310 - categorical_accuracy: 0.8720\n",
      "Epoch 24/50\n",
      "14364/14364 [==============================] - 0s 30us/sample - loss: 0.3306 - categorical_crossentropy: 0.3335 - categorical_accuracy: 0.8691\n",
      "Epoch 25/50\n",
      "14364/14364 [==============================] - 0s 30us/sample - loss: 0.3302 - categorical_crossentropy: 0.3353 - categorical_accuracy: 0.8704\n",
      "Epoch 26/50\n",
      "14364/14364 [==============================] - 0s 30us/sample - loss: 0.3269 - categorical_crossentropy: 0.3280 - categorical_accuracy: 0.8702\n",
      "Epoch 27/50\n",
      "14364/14364 [==============================] - 0s 30us/sample - loss: 0.3332 - categorical_crossentropy: 0.3408 - categorical_accuracy: 0.8683\n",
      "Epoch 28/50\n",
      "14364/14364 [==============================] - 0s 29us/sample - loss: 0.3262 - categorical_crossentropy: 0.3303 - categorical_accuracy: 0.8726\n",
      "Epoch 29/50\n",
      "14364/14364 [==============================] - 0s 30us/sample - loss: 0.3237 - categorical_crossentropy: 0.3266 - categorical_accuracy: 0.8725\n",
      "Epoch 30/50\n",
      "14364/14364 [==============================] - 0s 30us/sample - loss: 0.3245 - categorical_crossentropy: 0.3256 - categorical_accuracy: 0.8723\n",
      "Epoch 31/50\n",
      "14364/14364 [==============================] - 0s 30us/sample - loss: 0.3242 - categorical_crossentropy: 0.3289 - categorical_accuracy: 0.8695\n",
      "Epoch 32/50\n",
      "14364/14364 [==============================] - 0s 30us/sample - loss: 0.3289 - categorical_crossentropy: 0.3335 - categorical_accuracy: 0.8696\n",
      "Epoch 33/50\n",
      "14364/14364 [==============================] - 0s 30us/sample - loss: 0.3250 - categorical_crossentropy: 0.3314 - categorical_accuracy: 0.8727\n",
      "Epoch 34/50\n",
      "14364/14364 [==============================] - 0s 30us/sample - loss: 0.3245 - categorical_crossentropy: 0.3254 - categorical_accuracy: 0.8718\n",
      "Epoch 35/50\n",
      "14364/14364 [==============================] - 0s 30us/sample - loss: 0.3171 - categorical_crossentropy: 0.3224 - categorical_accuracy: 0.8720\n",
      "Epoch 36/50\n",
      "14364/14364 [==============================] - 0s 30us/sample - loss: 0.3187 - categorical_crossentropy: 0.3177 - categorical_accuracy: 0.8741\n",
      "Epoch 37/50\n",
      "14364/14364 [==============================] - 0s 29us/sample - loss: 0.3250 - categorical_crossentropy: 0.3254 - categorical_accuracy: 0.8724\n",
      "Epoch 38/50\n",
      "14364/14364 [==============================] - 0s 30us/sample - loss: 0.3208 - categorical_crossentropy: 0.3316 - categorical_accuracy: 0.8741\n",
      "Epoch 39/50\n",
      "14364/14364 [==============================] - 0s 29us/sample - loss: 0.3204 - categorical_crossentropy: 0.3217 - categorical_accuracy: 0.8759\n",
      "Epoch 40/50\n",
      "14364/14364 [==============================] - 0s 29us/sample - loss: 0.3181 - categorical_crossentropy: 0.3179 - categorical_accuracy: 0.8768\n",
      "Epoch 41/50\n",
      "14364/14364 [==============================] - 0s 29us/sample - loss: 0.3202 - categorical_crossentropy: 0.3272 - categorical_accuracy: 0.8733\n",
      "Epoch 42/50\n",
      "14364/14364 [==============================] - 0s 30us/sample - loss: 0.3145 - categorical_crossentropy: 0.3224 - categorical_accuracy: 0.8789\n",
      "Epoch 43/50\n",
      "14364/14364 [==============================] - 0s 29us/sample - loss: 0.3194 - categorical_crossentropy: 0.3202 - categorical_accuracy: 0.8740\n",
      "Epoch 44/50\n",
      "14364/14364 [==============================] - 0s 29us/sample - loss: 0.3178 - categorical_crossentropy: 0.3192 - categorical_accuracy: 0.8755\n",
      "Epoch 45/50\n",
      "14364/14364 [==============================] - 0s 30us/sample - loss: 0.3143 - categorical_crossentropy: 0.3244 - categorical_accuracy: 0.8769\n",
      "Epoch 46/50\n",
      "14364/14364 [==============================] - 0s 30us/sample - loss: 0.3229 - categorical_crossentropy: 0.3281 - categorical_accuracy: 0.8739\n",
      "Epoch 47/50\n",
      "14364/14364 [==============================] - 0s 30us/sample - loss: 0.3162 - categorical_crossentropy: 0.3186 - categorical_accuracy: 0.8780\n",
      "Epoch 48/50\n",
      "14364/14364 [==============================] - 0s 30us/sample - loss: 0.3064 - categorical_crossentropy: 0.3095 - categorical_accuracy: 0.8819\n",
      "Epoch 49/50\n",
      "14364/14364 [==============================] - 0s 29us/sample - loss: 0.3148 - categorical_crossentropy: 0.3189 - categorical_accuracy: 0.8765\n",
      "Epoch 50/50\n",
      "14364/14364 [==============================] - 0s 31us/sample - loss: 0.3155 - categorical_crossentropy: 0.3171 - categorical_accuracy: 0.8762\n"
     ]
    }
   ],
   "source": [
    "adv_model.compile(loss='categorical_crossentropy',   \n",
    "            optimizer=Adam(lr=3e-4),                     \n",
    "            metrics=['accuracy'])\n",
    "train_history=adv_model.fit({'feature': x_train, 'label': y_train},                \n",
    "                        epochs=50,                      \n",
    "                        batch_size=256, )"
   ]
  },
  {
   "cell_type": "code",
   "execution_count": 17,
   "metadata": {},
   "outputs": [
    {
     "name": "stdout",
     "output_type": "stream",
     "text": [
      "WARNING:tensorflow:Output output_1 missing from loss dictionary. We assume this was done on purpose. The fit and evaluate APIs will not be expecting any data to be passed to output_1.\n",
      "Epoch 1/50\n",
      "14364/14364 [==============================] - 1s 60us/sample - loss: 0.3087 - categorical_crossentropy: 0.3107 - categorical_accuracy: 0.8792\n",
      "Epoch 2/50\n",
      "14364/14364 [==============================] - 0s 29us/sample - loss: 0.3097 - categorical_crossentropy: 0.3088 - categorical_accuracy: 0.8766\n",
      "Epoch 3/50\n",
      "14364/14364 [==============================] - 0s 30us/sample - loss: 0.3079 - categorical_crossentropy: 0.3137 - categorical_accuracy: 0.8776\n",
      "Epoch 4/50\n",
      "14364/14364 [==============================] - 0s 29us/sample - loss: 0.3010 - categorical_crossentropy: 0.3036 - categorical_accuracy: 0.8826\n",
      "Epoch 5/50\n",
      "14364/14364 [==============================] - 0s 30us/sample - loss: 0.3101 - categorical_crossentropy: 0.3203 - categorical_accuracy: 0.8777\n",
      "Epoch 6/50\n",
      "14364/14364 [==============================] - 0s 29us/sample - loss: 0.3116 - categorical_crossentropy: 0.3125 - categorical_accuracy: 0.8774\n",
      "Epoch 7/50\n",
      "14364/14364 [==============================] - 0s 30us/sample - loss: 0.3092 - categorical_crossentropy: 0.3117 - categorical_accuracy: 0.8790\n",
      "Epoch 8/50\n",
      "14364/14364 [==============================] - 0s 30us/sample - loss: 0.3114 - categorical_crossentropy: 0.3166 - categorical_accuracy: 0.8786\n",
      "Epoch 9/50\n",
      "14364/14364 [==============================] - 0s 30us/sample - loss: 0.3057 - categorical_crossentropy: 0.3054 - categorical_accuracy: 0.8827\n",
      "Epoch 10/50\n",
      "14364/14364 [==============================] - 0s 30us/sample - loss: 0.3039 - categorical_crossentropy: 0.3032 - categorical_accuracy: 0.8812\n",
      "Epoch 11/50\n",
      "14364/14364 [==============================] - 0s 30us/sample - loss: 0.3147 - categorical_crossentropy: 0.3154 - categorical_accuracy: 0.8759\n",
      "Epoch 12/50\n",
      "14364/14364 [==============================] - 0s 30us/sample - loss: 0.3122 - categorical_crossentropy: 0.3144 - categorical_accuracy: 0.8782\n",
      "Epoch 13/50\n",
      "14364/14364 [==============================] - 0s 29us/sample - loss: 0.3102 - categorical_crossentropy: 0.3114 - categorical_accuracy: 0.8814\n",
      "Epoch 14/50\n",
      "14364/14364 [==============================] - 0s 30us/sample - loss: 0.3066 - categorical_crossentropy: 0.3073 - categorical_accuracy: 0.8792\n",
      "Epoch 15/50\n",
      "14364/14364 [==============================] - 0s 30us/sample - loss: 0.3054 - categorical_crossentropy: 0.3138 - categorical_accuracy: 0.8800\n",
      "Epoch 16/50\n",
      "14364/14364 [==============================] - 0s 30us/sample - loss: 0.3080 - categorical_crossentropy: 0.3166 - categorical_accuracy: 0.8803\n",
      "Epoch 17/50\n",
      "14364/14364 [==============================] - 0s 30us/sample - loss: 0.3022 - categorical_crossentropy: 0.3049 - categorical_accuracy: 0.8819\n",
      "Epoch 18/50\n",
      "14364/14364 [==============================] - 0s 30us/sample - loss: 0.3075 - categorical_crossentropy: 0.3110 - categorical_accuracy: 0.8775\n",
      "Epoch 19/50\n",
      "14364/14364 [==============================] - 0s 29us/sample - loss: 0.3088 - categorical_crossentropy: 0.3084 - categorical_accuracy: 0.8794\n",
      "Epoch 20/50\n",
      "14364/14364 [==============================] - 0s 30us/sample - loss: 0.3106 - categorical_crossentropy: 0.3108 - categorical_accuracy: 0.8776\n",
      "Epoch 21/50\n",
      "14364/14364 [==============================] - 0s 29us/sample - loss: 0.3035 - categorical_crossentropy: 0.3142 - categorical_accuracy: 0.8798\n",
      "Epoch 22/50\n",
      "14364/14364 [==============================] - 0s 30us/sample - loss: 0.3118 - categorical_crossentropy: 0.3209 - categorical_accuracy: 0.8791\n",
      "Epoch 23/50\n",
      "14364/14364 [==============================] - 0s 30us/sample - loss: 0.3062 - categorical_crossentropy: 0.3060 - categorical_accuracy: 0.8790\n",
      "Epoch 24/50\n",
      "14364/14364 [==============================] - 0s 29us/sample - loss: 0.3069 - categorical_crossentropy: 0.3071 - categorical_accuracy: 0.8803\n",
      "Epoch 25/50\n",
      "14364/14364 [==============================] - 0s 30us/sample - loss: 0.3131 - categorical_crossentropy: 0.3135 - categorical_accuracy: 0.8805\n",
      "Epoch 26/50\n",
      "14364/14364 [==============================] - 0s 30us/sample - loss: 0.3165 - categorical_crossentropy: 0.3203 - categorical_accuracy: 0.8766\n",
      "Epoch 27/50\n",
      "14364/14364 [==============================] - 0s 30us/sample - loss: 0.3068 - categorical_crossentropy: 0.3105 - categorical_accuracy: 0.8786\n",
      "Epoch 28/50\n",
      "14364/14364 [==============================] - 0s 30us/sample - loss: 0.3064 - categorical_crossentropy: 0.3055 - categorical_accuracy: 0.8794\n",
      "Epoch 29/50\n",
      "14364/14364 [==============================] - 0s 29us/sample - loss: 0.3047 - categorical_crossentropy: 0.3057 - categorical_accuracy: 0.8829\n",
      "Epoch 30/50\n",
      "14364/14364 [==============================] - 0s 29us/sample - loss: 0.3056 - categorical_crossentropy: 0.3083 - categorical_accuracy: 0.8807\n",
      "Epoch 31/50\n",
      "14364/14364 [==============================] - 0s 30us/sample - loss: 0.3042 - categorical_crossentropy: 0.3033 - categorical_accuracy: 0.8802\n",
      "Epoch 32/50\n",
      "14364/14364 [==============================] - 0s 29us/sample - loss: 0.3075 - categorical_crossentropy: 0.3064 - categorical_accuracy: 0.8812\n",
      "Epoch 33/50\n",
      "14364/14364 [==============================] - 0s 30us/sample - loss: 0.3116 - categorical_crossentropy: 0.3172 - categorical_accuracy: 0.8793\n",
      "Epoch 34/50\n",
      "14364/14364 [==============================] - 0s 30us/sample - loss: 0.3016 - categorical_crossentropy: 0.3062 - categorical_accuracy: 0.8800\n",
      "Epoch 35/50\n",
      "14364/14364 [==============================] - 0s 30us/sample - loss: 0.3047 - categorical_crossentropy: 0.3112 - categorical_accuracy: 0.8821\n",
      "Epoch 36/50\n",
      "14364/14364 [==============================] - 0s 30us/sample - loss: 0.3078 - categorical_crossentropy: 0.3142 - categorical_accuracy: 0.8789\n",
      "Epoch 37/50\n",
      "14364/14364 [==============================] - 0s 30us/sample - loss: 0.3042 - categorical_crossentropy: 0.3067 - categorical_accuracy: 0.8826\n",
      "Epoch 38/50\n",
      "14364/14364 [==============================] - 0s 30us/sample - loss: 0.3086 - categorical_crossentropy: 0.3080 - categorical_accuracy: 0.8790\n",
      "Epoch 39/50\n",
      "14364/14364 [==============================] - 0s 30us/sample - loss: 0.3091 - categorical_crossentropy: 0.3130 - categorical_accuracy: 0.8782\n",
      "Epoch 40/50\n",
      "14364/14364 [==============================] - 0s 30us/sample - loss: 0.3103 - categorical_crossentropy: 0.3155 - categorical_accuracy: 0.8774\n",
      "Epoch 41/50\n",
      "14364/14364 [==============================] - 0s 30us/sample - loss: 0.3053 - categorical_crossentropy: 0.3074 - categorical_accuracy: 0.8791\n",
      "Epoch 42/50\n",
      "14364/14364 [==============================] - 0s 30us/sample - loss: 0.3072 - categorical_crossentropy: 0.3094 - categorical_accuracy: 0.8800\n",
      "Epoch 43/50\n",
      "14364/14364 [==============================] - 0s 30us/sample - loss: 0.3080 - categorical_crossentropy: 0.3171 - categorical_accuracy: 0.8784\n",
      "Epoch 44/50\n",
      "14364/14364 [==============================] - 0s 30us/sample - loss: 0.3095 - categorical_crossentropy: 0.3124 - categorical_accuracy: 0.8787\n",
      "Epoch 45/50\n",
      "14364/14364 [==============================] - 0s 30us/sample - loss: 0.3020 - categorical_crossentropy: 0.3074 - categorical_accuracy: 0.8806\n",
      "Epoch 46/50\n",
      "14364/14364 [==============================] - 0s 30us/sample - loss: 0.3097 - categorical_crossentropy: 0.3123 - categorical_accuracy: 0.8764\n",
      "Epoch 47/50\n",
      "14364/14364 [==============================] - 0s 30us/sample - loss: 0.3090 - categorical_crossentropy: 0.3105 - categorical_accuracy: 0.8797\n",
      "Epoch 48/50\n",
      "14364/14364 [==============================] - 0s 30us/sample - loss: 0.3040 - categorical_crossentropy: 0.3081 - categorical_accuracy: 0.8799\n",
      "Epoch 49/50\n",
      "14364/14364 [==============================] - 0s 30us/sample - loss: 0.3036 - categorical_crossentropy: 0.3060 - categorical_accuracy: 0.8790\n",
      "Epoch 50/50\n",
      "14364/14364 [==============================] - 0s 29us/sample - loss: 0.3110 - categorical_crossentropy: 0.3120 - categorical_accuracy: 0.8773\n"
     ]
    }
   ],
   "source": [
    "adv_model.compile(loss='categorical_crossentropy',   \n",
    "            optimizer=Adam(lr=1e-5),                     \n",
    "            metrics=['accuracy'])\n",
    "train_history=adv_model.fit({'feature': x_train, 'label': y_train},                  \n",
    "                        epochs=50,                      \n",
    "                        batch_size=256, )"
   ]
  },
  {
   "cell_type": "code",
   "execution_count": 18,
   "metadata": {},
   "outputs": [],
   "source": [
    "model.save_weights('model_20190917_NSL_1.h5')"
   ]
  },
  {
   "cell_type": "code",
   "execution_count": 30,
   "metadata": {},
   "outputs": [
    {
     "data": {
      "text/plain": [
       "0.9161097187412977"
      ]
     },
     "execution_count": 30,
     "metadata": {},
     "output_type": "execute_result"
    }
   ],
   "source": [
    "# train dataset result\n",
    "pred = np.argmax( model.predict(x_train), 1)+1\n",
    "y_true = np.argmax( y_train, 1)+1\n",
    "np.sum(pred==y_true)/len(x_train)"
   ]
  },
  {
   "cell_type": "code",
   "execution_count": 31,
   "metadata": {},
   "outputs": [],
   "source": [
    "pred = np.argmax( model.predict(x_test), 1)+1\n",
    "df = pd.DataFrame( {'id': test.index, 'class':pred}, index=range(len(x_test)))\n",
    "df.to_csv('sub_201909_NSL.csv', index=False)"
   ]
  },
  {
   "cell_type": "code",
   "execution_count": null,
   "metadata": {},
   "outputs": [],
   "source": []
  }
 ],
 "metadata": {
  "kernelspec": {
   "display_name": "Python 3",
   "language": "python",
   "name": "python3"
  },
  "language_info": {
   "codemirror_mode": {
    "name": "ipython",
    "version": 3
   },
   "file_extension": ".py",
   "mimetype": "text/x-python",
   "name": "python",
   "nbconvert_exporter": "python",
   "pygments_lexer": "ipython3",
   "version": "3.6.6"
  }
 },
 "nbformat": 4,
 "nbformat_minor": 2
}
